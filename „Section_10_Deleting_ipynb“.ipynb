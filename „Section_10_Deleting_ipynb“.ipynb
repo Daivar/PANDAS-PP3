{
  "nbformat": 4,
  "nbformat_minor": 0,
  "metadata": {
    "colab": {
      "name": "„Section 10: Deleting.ipynb“ ",
      "provenance": [],
      "toc_visible": true,
      "authorship_tag": "ABX9TyNEiAT5xthaIUJlF13sAoMo",
      "include_colab_link": true
    },
    "kernelspec": {
      "name": "python3",
      "display_name": "Python 3"
    },
    "language_info": {
      "name": "python"
    }
  },
  "cells": [
    {
      "cell_type": "markdown",
      "metadata": {
        "id": "view-in-github",
        "colab_type": "text"
      },
      "source": [
        "<a href=\"https://colab.research.google.com/github/Daivar/PANDAS-PP3/blob/main/%E2%80%9ESection_10_Deleting_ipynb%E2%80%9C.ipynb\" target=\"_parent\"><img src=\"https://colab.research.google.com/assets/colab-badge.svg\" alt=\"Open In Colab\"/></a>"
      ]
    },
    {
      "cell_type": "markdown",
      "metadata": {
        "id": "K9mDUmplg6Ev"
      },
      "source": [
        "# Section 10: Deleting\n",
        "### Introduction:\n",
        "##### This exercise is a adaptation from the UCI Wine dataset. The only pupose is to practice deleting data with pandas.\n",
        "\n",
        "### Step 1. Import the necessary libraries"
      ]
    },
    {
      "cell_type": "code",
      "metadata": {
        "id": "Wos9C28NhG6m"
      },
      "source": [
        "import pandas as pd\n",
        "import numpy as np\n"
      ],
      "execution_count": 3,
      "outputs": []
    },
    {
      "cell_type": "markdown",
      "metadata": {
        "id": "mTFQQYGKhOju"
      },
      "source": [
        "### Step 2. Import the dataset from this address.\n",
        "### Step 3. Assign it to a variable called wine"
      ]
    },
    {
      "cell_type": "code",
      "metadata": {
        "colab": {
          "base_uri": "https://localhost:8080/"
        },
        "id": "PbzrQnnjhVmZ",
        "outputId": "d61b4993-a3d6-4a30-bfcc-f6150e66a4fe"
      },
      "source": [
        "wine = pd.read_csv(\"https://archive.ics.uci.edu/ml/machine-learning-databases/wine/wine.data\")\n",
        "wine.head"
      ],
      "execution_count": 4,
      "outputs": [
        {
          "output_type": "execute_result",
          "data": {
            "text/plain": [
              "<bound method NDFrame.head of      1  14.23  1.71  2.43  15.6  127  ...   .28  2.29   5.64  1.04  3.92  1065\n",
              "0    1  13.20  1.78  2.14  11.2  100  ...  0.26  1.28   4.38  1.05  3.40  1050\n",
              "1    1  13.16  2.36  2.67  18.6  101  ...  0.30  2.81   5.68  1.03  3.17  1185\n",
              "2    1  14.37  1.95  2.50  16.8  113  ...  0.24  2.18   7.80  0.86  3.45  1480\n",
              "3    1  13.24  2.59  2.87  21.0  118  ...  0.39  1.82   4.32  1.04  2.93   735\n",
              "4    1  14.20  1.76  2.45  15.2  112  ...  0.34  1.97   6.75  1.05  2.85  1450\n",
              "..  ..    ...   ...   ...   ...  ...  ...   ...   ...    ...   ...   ...   ...\n",
              "172  3  13.71  5.65  2.45  20.5   95  ...  0.52  1.06   7.70  0.64  1.74   740\n",
              "173  3  13.40  3.91  2.48  23.0  102  ...  0.43  1.41   7.30  0.70  1.56   750\n",
              "174  3  13.27  4.28  2.26  20.0  120  ...  0.43  1.35  10.20  0.59  1.56   835\n",
              "175  3  13.17  2.59  2.37  20.0  120  ...  0.53  1.46   9.30  0.60  1.62   840\n",
              "176  3  14.13  4.10  2.74  24.5   96  ...  0.56  1.35   9.20  0.61  1.60   560\n",
              "\n",
              "[177 rows x 14 columns]>"
            ]
          },
          "metadata": {},
          "execution_count": 4
        }
      ]
    },
    {
      "cell_type": "code",
      "metadata": {
        "colab": {
          "base_uri": "https://localhost:8080/"
        },
        "id": "dFgPdeDmY3vB",
        "outputId": "ec781d7b-9669-4d85-b0f3-d432468da42d"
      },
      "source": [
        "wine.dtypes"
      ],
      "execution_count": 5,
      "outputs": [
        {
          "output_type": "execute_result",
          "data": {
            "text/plain": [
              "1          int64\n",
              "14.23    float64\n",
              "1.71     float64\n",
              "2.43     float64\n",
              "15.6     float64\n",
              "127        int64\n",
              "2.8      float64\n",
              "3.06     float64\n",
              ".28      float64\n",
              "2.29     float64\n",
              "5.64     float64\n",
              "1.04     float64\n",
              "3.92     float64\n",
              "1065       int64\n",
              "dtype: object"
            ]
          },
          "metadata": {},
          "execution_count": 5
        }
      ]
    },
    {
      "cell_type": "markdown",
      "metadata": {
        "id": "3KXk7z9kh9v2"
      },
      "source": [
        "### Step 4. Delete the first, fourth, seventh, nineth, eleventh, thirteenth and fourteenth columns"
      ]
    },
    {
      "cell_type": "code",
      "metadata": {
        "colab": {
          "base_uri": "https://localhost:8080/",
          "height": 78
        },
        "id": "9TxXP8GviAI-",
        "outputId": "9e88b3c7-3d53-42f8-ad4d-719491596f1c"
      },
      "source": [
        "wine.drop(wine.columns[[0,3,6,8,10,12,13]], axis=1, inplace=True)\n",
        "wine.head(n=1)"
      ],
      "execution_count": 6,
      "outputs": [
        {
          "output_type": "execute_result",
          "data": {
            "text/html": [
              "<div>\n",
              "<style scoped>\n",
              "    .dataframe tbody tr th:only-of-type {\n",
              "        vertical-align: middle;\n",
              "    }\n",
              "\n",
              "    .dataframe tbody tr th {\n",
              "        vertical-align: top;\n",
              "    }\n",
              "\n",
              "    .dataframe thead th {\n",
              "        text-align: right;\n",
              "    }\n",
              "</style>\n",
              "<table border=\"1\" class=\"dataframe\">\n",
              "  <thead>\n",
              "    <tr style=\"text-align: right;\">\n",
              "      <th></th>\n",
              "      <th>14.23</th>\n",
              "      <th>1.71</th>\n",
              "      <th>15.6</th>\n",
              "      <th>127</th>\n",
              "      <th>3.06</th>\n",
              "      <th>2.29</th>\n",
              "      <th>1.04</th>\n",
              "    </tr>\n",
              "  </thead>\n",
              "  <tbody>\n",
              "    <tr>\n",
              "      <th>0</th>\n",
              "      <td>13.2</td>\n",
              "      <td>1.78</td>\n",
              "      <td>11.2</td>\n",
              "      <td>100</td>\n",
              "      <td>2.76</td>\n",
              "      <td>1.28</td>\n",
              "      <td>1.05</td>\n",
              "    </tr>\n",
              "  </tbody>\n",
              "</table>\n",
              "</div>"
            ],
            "text/plain": [
              "   14.23  1.71  15.6  127  3.06  2.29  1.04\n",
              "0   13.2  1.78  11.2  100  2.76  1.28  1.05"
            ]
          },
          "metadata": {},
          "execution_count": 6
        }
      ]
    },
    {
      "cell_type": "markdown",
      "metadata": {
        "id": "FlSAMBEhmtNd"
      },
      "source": [
        "### Step 5. Assign the columns as below:\n",
        "\n",
        "##### The attributes are (donated by Riccardo Leardi, riclea '@' anchem.unige.it):\n",
        "###### 1) alcohol\n",
        "###### 2) malic_acid\n",
        "###### 3) alcalinity_of_ash\n",
        "###### 4) magnesium\n",
        "###### 5) flavanoids\n",
        "###### 6) proanthocyanins\n",
        "###### 7) hue"
      ]
    },
    {
      "cell_type": "code",
      "metadata": {
        "colab": {
          "base_uri": "https://localhost:8080/",
          "height": 202
        },
        "id": "CNKnJNNMwJXE",
        "outputId": "972c0217-65c6-4ad4-f286-4c33d0bc6382"
      },
      "source": [
        "wine.columns = ['alcohol', 'malic_acid', 'alcalinity_of_ash', 'magnesium', 'flavanoids', 'proanthocyanins', 'hue']\n",
        "wine.head()"
      ],
      "execution_count": 7,
      "outputs": [
        {
          "output_type": "execute_result",
          "data": {
            "text/html": [
              "<div>\n",
              "<style scoped>\n",
              "    .dataframe tbody tr th:only-of-type {\n",
              "        vertical-align: middle;\n",
              "    }\n",
              "\n",
              "    .dataframe tbody tr th {\n",
              "        vertical-align: top;\n",
              "    }\n",
              "\n",
              "    .dataframe thead th {\n",
              "        text-align: right;\n",
              "    }\n",
              "</style>\n",
              "<table border=\"1\" class=\"dataframe\">\n",
              "  <thead>\n",
              "    <tr style=\"text-align: right;\">\n",
              "      <th></th>\n",
              "      <th>alcohol</th>\n",
              "      <th>malic_acid</th>\n",
              "      <th>alcalinity_of_ash</th>\n",
              "      <th>magnesium</th>\n",
              "      <th>flavanoids</th>\n",
              "      <th>proanthocyanins</th>\n",
              "      <th>hue</th>\n",
              "    </tr>\n",
              "  </thead>\n",
              "  <tbody>\n",
              "    <tr>\n",
              "      <th>0</th>\n",
              "      <td>13.20</td>\n",
              "      <td>1.78</td>\n",
              "      <td>11.2</td>\n",
              "      <td>100</td>\n",
              "      <td>2.76</td>\n",
              "      <td>1.28</td>\n",
              "      <td>1.05</td>\n",
              "    </tr>\n",
              "    <tr>\n",
              "      <th>1</th>\n",
              "      <td>13.16</td>\n",
              "      <td>2.36</td>\n",
              "      <td>18.6</td>\n",
              "      <td>101</td>\n",
              "      <td>3.24</td>\n",
              "      <td>2.81</td>\n",
              "      <td>1.03</td>\n",
              "    </tr>\n",
              "    <tr>\n",
              "      <th>2</th>\n",
              "      <td>14.37</td>\n",
              "      <td>1.95</td>\n",
              "      <td>16.8</td>\n",
              "      <td>113</td>\n",
              "      <td>3.49</td>\n",
              "      <td>2.18</td>\n",
              "      <td>0.86</td>\n",
              "    </tr>\n",
              "    <tr>\n",
              "      <th>3</th>\n",
              "      <td>13.24</td>\n",
              "      <td>2.59</td>\n",
              "      <td>21.0</td>\n",
              "      <td>118</td>\n",
              "      <td>2.69</td>\n",
              "      <td>1.82</td>\n",
              "      <td>1.04</td>\n",
              "    </tr>\n",
              "    <tr>\n",
              "      <th>4</th>\n",
              "      <td>14.20</td>\n",
              "      <td>1.76</td>\n",
              "      <td>15.2</td>\n",
              "      <td>112</td>\n",
              "      <td>3.39</td>\n",
              "      <td>1.97</td>\n",
              "      <td>1.05</td>\n",
              "    </tr>\n",
              "  </tbody>\n",
              "</table>\n",
              "</div>"
            ],
            "text/plain": [
              "   alcohol  malic_acid  alcalinity_of_ash  ...  flavanoids  proanthocyanins   hue\n",
              "0    13.20        1.78               11.2  ...        2.76             1.28  1.05\n",
              "1    13.16        2.36               18.6  ...        3.24             2.81  1.03\n",
              "2    14.37        1.95               16.8  ...        3.49             2.18  0.86\n",
              "3    13.24        2.59               21.0  ...        2.69             1.82  1.04\n",
              "4    14.20        1.76               15.2  ...        3.39             1.97  1.05\n",
              "\n",
              "[5 rows x 7 columns]"
            ]
          },
          "metadata": {},
          "execution_count": 7
        }
      ]
    },
    {
      "cell_type": "markdown",
      "metadata": {
        "id": "Ap8O-pgfDH85"
      },
      "source": [
        "### Step 6. Set the values of the first 3 rows from alcohol as NaN"
      ]
    },
    {
      "cell_type": "code",
      "metadata": {
        "colab": {
          "base_uri": "https://localhost:8080/",
          "height": 202
        },
        "id": "AGC6s_gmDNiY",
        "outputId": "107ae72d-c3c2-4c19-bb7c-3f74a03b3735"
      },
      "source": [
        "wine.iloc[0:3, 0] = np.nan\n",
        "wine.head()"
      ],
      "execution_count": 8,
      "outputs": [
        {
          "output_type": "execute_result",
          "data": {
            "text/html": [
              "<div>\n",
              "<style scoped>\n",
              "    .dataframe tbody tr th:only-of-type {\n",
              "        vertical-align: middle;\n",
              "    }\n",
              "\n",
              "    .dataframe tbody tr th {\n",
              "        vertical-align: top;\n",
              "    }\n",
              "\n",
              "    .dataframe thead th {\n",
              "        text-align: right;\n",
              "    }\n",
              "</style>\n",
              "<table border=\"1\" class=\"dataframe\">\n",
              "  <thead>\n",
              "    <tr style=\"text-align: right;\">\n",
              "      <th></th>\n",
              "      <th>alcohol</th>\n",
              "      <th>malic_acid</th>\n",
              "      <th>alcalinity_of_ash</th>\n",
              "      <th>magnesium</th>\n",
              "      <th>flavanoids</th>\n",
              "      <th>proanthocyanins</th>\n",
              "      <th>hue</th>\n",
              "    </tr>\n",
              "  </thead>\n",
              "  <tbody>\n",
              "    <tr>\n",
              "      <th>0</th>\n",
              "      <td>NaN</td>\n",
              "      <td>1.78</td>\n",
              "      <td>11.2</td>\n",
              "      <td>100</td>\n",
              "      <td>2.76</td>\n",
              "      <td>1.28</td>\n",
              "      <td>1.05</td>\n",
              "    </tr>\n",
              "    <tr>\n",
              "      <th>1</th>\n",
              "      <td>NaN</td>\n",
              "      <td>2.36</td>\n",
              "      <td>18.6</td>\n",
              "      <td>101</td>\n",
              "      <td>3.24</td>\n",
              "      <td>2.81</td>\n",
              "      <td>1.03</td>\n",
              "    </tr>\n",
              "    <tr>\n",
              "      <th>2</th>\n",
              "      <td>NaN</td>\n",
              "      <td>1.95</td>\n",
              "      <td>16.8</td>\n",
              "      <td>113</td>\n",
              "      <td>3.49</td>\n",
              "      <td>2.18</td>\n",
              "      <td>0.86</td>\n",
              "    </tr>\n",
              "    <tr>\n",
              "      <th>3</th>\n",
              "      <td>13.24</td>\n",
              "      <td>2.59</td>\n",
              "      <td>21.0</td>\n",
              "      <td>118</td>\n",
              "      <td>2.69</td>\n",
              "      <td>1.82</td>\n",
              "      <td>1.04</td>\n",
              "    </tr>\n",
              "    <tr>\n",
              "      <th>4</th>\n",
              "      <td>14.20</td>\n",
              "      <td>1.76</td>\n",
              "      <td>15.2</td>\n",
              "      <td>112</td>\n",
              "      <td>3.39</td>\n",
              "      <td>1.97</td>\n",
              "      <td>1.05</td>\n",
              "    </tr>\n",
              "  </tbody>\n",
              "</table>\n",
              "</div>"
            ],
            "text/plain": [
              "   alcohol  malic_acid  alcalinity_of_ash  ...  flavanoids  proanthocyanins   hue\n",
              "0      NaN        1.78               11.2  ...        2.76             1.28  1.05\n",
              "1      NaN        2.36               18.6  ...        3.24             2.81  1.03\n",
              "2      NaN        1.95               16.8  ...        3.49             2.18  0.86\n",
              "3    13.24        2.59               21.0  ...        2.69             1.82  1.04\n",
              "4    14.20        1.76               15.2  ...        3.39             1.97  1.05\n",
              "\n",
              "[5 rows x 7 columns]"
            ]
          },
          "metadata": {},
          "execution_count": 8
        }
      ]
    },
    {
      "cell_type": "markdown",
      "metadata": {
        "id": "xbkWywdcGV7Z"
      },
      "source": [
        "### Step 7. Now set the value of the rows 3 and 4 of magnesium as NaN"
      ]
    },
    {
      "cell_type": "code",
      "metadata": {
        "colab": {
          "base_uri": "https://localhost:8080/",
          "height": 202
        },
        "id": "aB2JRgVoGbIP",
        "outputId": "4d2bea6b-9b12-44d1-8216-e5ae7dff1d93"
      },
      "source": [
        "wine.iloc[2:4, 3]  = np.nan\n",
        "wine.head()"
      ],
      "execution_count": 9,
      "outputs": [
        {
          "output_type": "execute_result",
          "data": {
            "text/html": [
              "<div>\n",
              "<style scoped>\n",
              "    .dataframe tbody tr th:only-of-type {\n",
              "        vertical-align: middle;\n",
              "    }\n",
              "\n",
              "    .dataframe tbody tr th {\n",
              "        vertical-align: top;\n",
              "    }\n",
              "\n",
              "    .dataframe thead th {\n",
              "        text-align: right;\n",
              "    }\n",
              "</style>\n",
              "<table border=\"1\" class=\"dataframe\">\n",
              "  <thead>\n",
              "    <tr style=\"text-align: right;\">\n",
              "      <th></th>\n",
              "      <th>alcohol</th>\n",
              "      <th>malic_acid</th>\n",
              "      <th>alcalinity_of_ash</th>\n",
              "      <th>magnesium</th>\n",
              "      <th>flavanoids</th>\n",
              "      <th>proanthocyanins</th>\n",
              "      <th>hue</th>\n",
              "    </tr>\n",
              "  </thead>\n",
              "  <tbody>\n",
              "    <tr>\n",
              "      <th>0</th>\n",
              "      <td>NaN</td>\n",
              "      <td>1.78</td>\n",
              "      <td>11.2</td>\n",
              "      <td>100.0</td>\n",
              "      <td>2.76</td>\n",
              "      <td>1.28</td>\n",
              "      <td>1.05</td>\n",
              "    </tr>\n",
              "    <tr>\n",
              "      <th>1</th>\n",
              "      <td>NaN</td>\n",
              "      <td>2.36</td>\n",
              "      <td>18.6</td>\n",
              "      <td>101.0</td>\n",
              "      <td>3.24</td>\n",
              "      <td>2.81</td>\n",
              "      <td>1.03</td>\n",
              "    </tr>\n",
              "    <tr>\n",
              "      <th>2</th>\n",
              "      <td>NaN</td>\n",
              "      <td>1.95</td>\n",
              "      <td>16.8</td>\n",
              "      <td>NaN</td>\n",
              "      <td>3.49</td>\n",
              "      <td>2.18</td>\n",
              "      <td>0.86</td>\n",
              "    </tr>\n",
              "    <tr>\n",
              "      <th>3</th>\n",
              "      <td>13.24</td>\n",
              "      <td>2.59</td>\n",
              "      <td>21.0</td>\n",
              "      <td>NaN</td>\n",
              "      <td>2.69</td>\n",
              "      <td>1.82</td>\n",
              "      <td>1.04</td>\n",
              "    </tr>\n",
              "    <tr>\n",
              "      <th>4</th>\n",
              "      <td>14.20</td>\n",
              "      <td>1.76</td>\n",
              "      <td>15.2</td>\n",
              "      <td>112.0</td>\n",
              "      <td>3.39</td>\n",
              "      <td>1.97</td>\n",
              "      <td>1.05</td>\n",
              "    </tr>\n",
              "  </tbody>\n",
              "</table>\n",
              "</div>"
            ],
            "text/plain": [
              "   alcohol  malic_acid  alcalinity_of_ash  ...  flavanoids  proanthocyanins   hue\n",
              "0      NaN        1.78               11.2  ...        2.76             1.28  1.05\n",
              "1      NaN        2.36               18.6  ...        3.24             2.81  1.03\n",
              "2      NaN        1.95               16.8  ...        3.49             2.18  0.86\n",
              "3    13.24        2.59               21.0  ...        2.69             1.82  1.04\n",
              "4    14.20        1.76               15.2  ...        3.39             1.97  1.05\n",
              "\n",
              "[5 rows x 7 columns]"
            ]
          },
          "metadata": {},
          "execution_count": 9
        }
      ]
    },
    {
      "cell_type": "markdown",
      "metadata": {
        "id": "xUOx32FSGpin"
      },
      "source": [
        "### Step 8. Fill the value of NaN with the number 10 in alcohol and 100 in magnesium"
      ]
    },
    {
      "cell_type": "code",
      "metadata": {
        "colab": {
          "base_uri": "https://localhost:8080/",
          "height": 202
        },
        "id": "cG7b08NsGs9n",
        "outputId": "a5d07951-bf05-4639-be34-7d0be7988048"
      },
      "source": [
        "wine.alcohol.fillna(10, inplace = True)\n",
        "wine.magnesium.fillna(100, inplace = True)\n",
        "wine.head()"
      ],
      "execution_count": 10,
      "outputs": [
        {
          "output_type": "execute_result",
          "data": {
            "text/html": [
              "<div>\n",
              "<style scoped>\n",
              "    .dataframe tbody tr th:only-of-type {\n",
              "        vertical-align: middle;\n",
              "    }\n",
              "\n",
              "    .dataframe tbody tr th {\n",
              "        vertical-align: top;\n",
              "    }\n",
              "\n",
              "    .dataframe thead th {\n",
              "        text-align: right;\n",
              "    }\n",
              "</style>\n",
              "<table border=\"1\" class=\"dataframe\">\n",
              "  <thead>\n",
              "    <tr style=\"text-align: right;\">\n",
              "      <th></th>\n",
              "      <th>alcohol</th>\n",
              "      <th>malic_acid</th>\n",
              "      <th>alcalinity_of_ash</th>\n",
              "      <th>magnesium</th>\n",
              "      <th>flavanoids</th>\n",
              "      <th>proanthocyanins</th>\n",
              "      <th>hue</th>\n",
              "    </tr>\n",
              "  </thead>\n",
              "  <tbody>\n",
              "    <tr>\n",
              "      <th>0</th>\n",
              "      <td>10.00</td>\n",
              "      <td>1.78</td>\n",
              "      <td>11.2</td>\n",
              "      <td>100.0</td>\n",
              "      <td>2.76</td>\n",
              "      <td>1.28</td>\n",
              "      <td>1.05</td>\n",
              "    </tr>\n",
              "    <tr>\n",
              "      <th>1</th>\n",
              "      <td>10.00</td>\n",
              "      <td>2.36</td>\n",
              "      <td>18.6</td>\n",
              "      <td>101.0</td>\n",
              "      <td>3.24</td>\n",
              "      <td>2.81</td>\n",
              "      <td>1.03</td>\n",
              "    </tr>\n",
              "    <tr>\n",
              "      <th>2</th>\n",
              "      <td>10.00</td>\n",
              "      <td>1.95</td>\n",
              "      <td>16.8</td>\n",
              "      <td>100.0</td>\n",
              "      <td>3.49</td>\n",
              "      <td>2.18</td>\n",
              "      <td>0.86</td>\n",
              "    </tr>\n",
              "    <tr>\n",
              "      <th>3</th>\n",
              "      <td>13.24</td>\n",
              "      <td>2.59</td>\n",
              "      <td>21.0</td>\n",
              "      <td>100.0</td>\n",
              "      <td>2.69</td>\n",
              "      <td>1.82</td>\n",
              "      <td>1.04</td>\n",
              "    </tr>\n",
              "    <tr>\n",
              "      <th>4</th>\n",
              "      <td>14.20</td>\n",
              "      <td>1.76</td>\n",
              "      <td>15.2</td>\n",
              "      <td>112.0</td>\n",
              "      <td>3.39</td>\n",
              "      <td>1.97</td>\n",
              "      <td>1.05</td>\n",
              "    </tr>\n",
              "  </tbody>\n",
              "</table>\n",
              "</div>"
            ],
            "text/plain": [
              "   alcohol  malic_acid  alcalinity_of_ash  ...  flavanoids  proanthocyanins   hue\n",
              "0    10.00        1.78               11.2  ...        2.76             1.28  1.05\n",
              "1    10.00        2.36               18.6  ...        3.24             2.81  1.03\n",
              "2    10.00        1.95               16.8  ...        3.49             2.18  0.86\n",
              "3    13.24        2.59               21.0  ...        2.69             1.82  1.04\n",
              "4    14.20        1.76               15.2  ...        3.39             1.97  1.05\n",
              "\n",
              "[5 rows x 7 columns]"
            ]
          },
          "metadata": {},
          "execution_count": 10
        }
      ]
    },
    {
      "cell_type": "markdown",
      "metadata": {
        "id": "bmW7QVzdG5HA"
      },
      "source": [
        "### Step 9. Count the number of missing values"
      ]
    },
    {
      "cell_type": "code",
      "metadata": {
        "colab": {
          "base_uri": "https://localhost:8080/"
        },
        "id": "2ZQgjdoiG8R4",
        "outputId": "0b80b8e7-7995-45bc-c2a5-ca0f5379f859"
      },
      "source": [
        "wine.isnull().sum()"
      ],
      "execution_count": 11,
      "outputs": [
        {
          "output_type": "execute_result",
          "data": {
            "text/plain": [
              "alcohol              0\n",
              "malic_acid           0\n",
              "alcalinity_of_ash    0\n",
              "magnesium            0\n",
              "flavanoids           0\n",
              "proanthocyanins      0\n",
              "hue                  0\n",
              "dtype: int64"
            ]
          },
          "metadata": {},
          "execution_count": 11
        }
      ]
    },
    {
      "cell_type": "code",
      "metadata": {
        "colab": {
          "base_uri": "https://localhost:8080/"
        },
        "id": "70Hj_89aHnUQ",
        "outputId": "fa5dfe00-abb8-4dcf-cd7b-5344afdf7532"
      },
      "source": [
        "wine.isna().sum()"
      ],
      "execution_count": 12,
      "outputs": [
        {
          "output_type": "execute_result",
          "data": {
            "text/plain": [
              "alcohol              0\n",
              "malic_acid           0\n",
              "alcalinity_of_ash    0\n",
              "magnesium            0\n",
              "flavanoids           0\n",
              "proanthocyanins      0\n",
              "hue                  0\n",
              "dtype: int64"
            ]
          },
          "metadata": {},
          "execution_count": 12
        }
      ]
    },
    {
      "cell_type": "markdown",
      "metadata": {
        "id": "NPMM0jEzKIOY"
      },
      "source": [
        "### Step 10. Create an array of 10 random numbers up until 10"
      ]
    },
    {
      "cell_type": "code",
      "metadata": {
        "colab": {
          "base_uri": "https://localhost:8080/"
        },
        "id": "ZjjkZ0X1KLv5",
        "outputId": "6ec51bb0-a472-4ad6-d2e7-764172fb37a6"
      },
      "source": [
        "random = np.random.randint(10, size = 10)\n",
        "random"
      ],
      "execution_count": 13,
      "outputs": [
        {
          "output_type": "execute_result",
          "data": {
            "text/plain": [
              "array([2, 2, 6, 0, 5, 7, 5, 9, 8, 1])"
            ]
          },
          "metadata": {},
          "execution_count": 13
        }
      ]
    },
    {
      "cell_type": "markdown",
      "metadata": {
        "id": "Ka74C568Lf97"
      },
      "source": [
        "### Step 11. Use random numbers you generated as an index and assign NaN value to each of cell."
      ]
    },
    {
      "cell_type": "code",
      "metadata": {
        "colab": {
          "base_uri": "https://localhost:8080/",
          "height": 202
        },
        "id": "wnBndU3dLmaX",
        "outputId": "3ff721e6-ac8a-47ac-e67d-18c99f05cefc"
      },
      "source": [
        "wine.hue[random] = np.nan\n",
        "wine.head(5)"
      ],
      "execution_count": 14,
      "outputs": [
        {
          "output_type": "execute_result",
          "data": {
            "text/html": [
              "<div>\n",
              "<style scoped>\n",
              "    .dataframe tbody tr th:only-of-type {\n",
              "        vertical-align: middle;\n",
              "    }\n",
              "\n",
              "    .dataframe tbody tr th {\n",
              "        vertical-align: top;\n",
              "    }\n",
              "\n",
              "    .dataframe thead th {\n",
              "        text-align: right;\n",
              "    }\n",
              "</style>\n",
              "<table border=\"1\" class=\"dataframe\">\n",
              "  <thead>\n",
              "    <tr style=\"text-align: right;\">\n",
              "      <th></th>\n",
              "      <th>alcohol</th>\n",
              "      <th>malic_acid</th>\n",
              "      <th>alcalinity_of_ash</th>\n",
              "      <th>magnesium</th>\n",
              "      <th>flavanoids</th>\n",
              "      <th>proanthocyanins</th>\n",
              "      <th>hue</th>\n",
              "    </tr>\n",
              "  </thead>\n",
              "  <tbody>\n",
              "    <tr>\n",
              "      <th>0</th>\n",
              "      <td>10.00</td>\n",
              "      <td>1.78</td>\n",
              "      <td>11.2</td>\n",
              "      <td>100.0</td>\n",
              "      <td>2.76</td>\n",
              "      <td>1.28</td>\n",
              "      <td>NaN</td>\n",
              "    </tr>\n",
              "    <tr>\n",
              "      <th>1</th>\n",
              "      <td>10.00</td>\n",
              "      <td>2.36</td>\n",
              "      <td>18.6</td>\n",
              "      <td>101.0</td>\n",
              "      <td>3.24</td>\n",
              "      <td>2.81</td>\n",
              "      <td>NaN</td>\n",
              "    </tr>\n",
              "    <tr>\n",
              "      <th>2</th>\n",
              "      <td>10.00</td>\n",
              "      <td>1.95</td>\n",
              "      <td>16.8</td>\n",
              "      <td>100.0</td>\n",
              "      <td>3.49</td>\n",
              "      <td>2.18</td>\n",
              "      <td>NaN</td>\n",
              "    </tr>\n",
              "    <tr>\n",
              "      <th>3</th>\n",
              "      <td>13.24</td>\n",
              "      <td>2.59</td>\n",
              "      <td>21.0</td>\n",
              "      <td>100.0</td>\n",
              "      <td>2.69</td>\n",
              "      <td>1.82</td>\n",
              "      <td>1.04</td>\n",
              "    </tr>\n",
              "    <tr>\n",
              "      <th>4</th>\n",
              "      <td>14.20</td>\n",
              "      <td>1.76</td>\n",
              "      <td>15.2</td>\n",
              "      <td>112.0</td>\n",
              "      <td>3.39</td>\n",
              "      <td>1.97</td>\n",
              "      <td>1.05</td>\n",
              "    </tr>\n",
              "  </tbody>\n",
              "</table>\n",
              "</div>"
            ],
            "text/plain": [
              "   alcohol  malic_acid  alcalinity_of_ash  ...  flavanoids  proanthocyanins   hue\n",
              "0    10.00        1.78               11.2  ...        2.76             1.28   NaN\n",
              "1    10.00        2.36               18.6  ...        3.24             2.81   NaN\n",
              "2    10.00        1.95               16.8  ...        3.49             2.18   NaN\n",
              "3    13.24        2.59               21.0  ...        2.69             1.82  1.04\n",
              "4    14.20        1.76               15.2  ...        3.39             1.97  1.05\n",
              "\n",
              "[5 rows x 7 columns]"
            ]
          },
          "metadata": {},
          "execution_count": 14
        }
      ]
    },
    {
      "cell_type": "markdown",
      "metadata": {
        "id": "UPbvMCwxMMNG"
      },
      "source": [
        "### Step 12. How many missing values do we have?"
      ]
    },
    {
      "cell_type": "code",
      "metadata": {
        "colab": {
          "base_uri": "https://localhost:8080/"
        },
        "id": "KTUM1bwsMPl3",
        "outputId": "91d5d24d-5879-48ca-945e-c3e23e4a6b6b"
      },
      "source": [
        "wine.isna().sum()"
      ],
      "execution_count": 15,
      "outputs": [
        {
          "output_type": "execute_result",
          "data": {
            "text/plain": [
              "alcohol              0\n",
              "malic_acid           0\n",
              "alcalinity_of_ash    0\n",
              "magnesium            0\n",
              "flavanoids           0\n",
              "proanthocyanins      0\n",
              "hue                  8\n",
              "dtype: int64"
            ]
          },
          "metadata": {},
          "execution_count": 15
        }
      ]
    },
    {
      "cell_type": "markdown",
      "metadata": {
        "id": "7ChglsnzW8P6"
      },
      "source": [
        "### Step 13. Delete the rows that contain missing values"
      ]
    },
    {
      "cell_type": "code",
      "metadata": {
        "colab": {
          "base_uri": "https://localhost:8080/",
          "height": 202
        },
        "id": "AYulgvxMXRcY",
        "outputId": "4f8d4fe6-791e-4420-aca7-7f5316a4850a"
      },
      "source": [
        "wine = wine.dropna(axis = 0, how = \"any\")\n",
        "wine.head()"
      ],
      "execution_count": 21,
      "outputs": [
        {
          "output_type": "execute_result",
          "data": {
            "text/html": [
              "<div>\n",
              "<style scoped>\n",
              "    .dataframe tbody tr th:only-of-type {\n",
              "        vertical-align: middle;\n",
              "    }\n",
              "\n",
              "    .dataframe tbody tr th {\n",
              "        vertical-align: top;\n",
              "    }\n",
              "\n",
              "    .dataframe thead th {\n",
              "        text-align: right;\n",
              "    }\n",
              "</style>\n",
              "<table border=\"1\" class=\"dataframe\">\n",
              "  <thead>\n",
              "    <tr style=\"text-align: right;\">\n",
              "      <th></th>\n",
              "      <th>alcohol</th>\n",
              "      <th>malic_acid</th>\n",
              "      <th>alcalinity_of_ash</th>\n",
              "      <th>magnesium</th>\n",
              "      <th>flavanoids</th>\n",
              "      <th>proanthocyanins</th>\n",
              "      <th>hue</th>\n",
              "    </tr>\n",
              "  </thead>\n",
              "  <tbody>\n",
              "    <tr>\n",
              "      <th>10</th>\n",
              "      <td>14.12</td>\n",
              "      <td>1.48</td>\n",
              "      <td>16.8</td>\n",
              "      <td>95.0</td>\n",
              "      <td>2.43</td>\n",
              "      <td>1.57</td>\n",
              "      <td>1.17</td>\n",
              "    </tr>\n",
              "    <tr>\n",
              "      <th>11</th>\n",
              "      <td>13.75</td>\n",
              "      <td>1.73</td>\n",
              "      <td>16.0</td>\n",
              "      <td>89.0</td>\n",
              "      <td>2.76</td>\n",
              "      <td>1.81</td>\n",
              "      <td>1.15</td>\n",
              "    </tr>\n",
              "    <tr>\n",
              "      <th>12</th>\n",
              "      <td>14.75</td>\n",
              "      <td>1.73</td>\n",
              "      <td>11.4</td>\n",
              "      <td>91.0</td>\n",
              "      <td>3.69</td>\n",
              "      <td>2.81</td>\n",
              "      <td>1.25</td>\n",
              "    </tr>\n",
              "    <tr>\n",
              "      <th>13</th>\n",
              "      <td>14.38</td>\n",
              "      <td>1.87</td>\n",
              "      <td>12.0</td>\n",
              "      <td>102.0</td>\n",
              "      <td>3.64</td>\n",
              "      <td>2.96</td>\n",
              "      <td>1.20</td>\n",
              "    </tr>\n",
              "    <tr>\n",
              "      <th>14</th>\n",
              "      <td>13.63</td>\n",
              "      <td>1.81</td>\n",
              "      <td>17.2</td>\n",
              "      <td>112.0</td>\n",
              "      <td>2.91</td>\n",
              "      <td>1.46</td>\n",
              "      <td>1.28</td>\n",
              "    </tr>\n",
              "  </tbody>\n",
              "</table>\n",
              "</div>"
            ],
            "text/plain": [
              "    alcohol  malic_acid  alcalinity_of_ash  ...  flavanoids  proanthocyanins   hue\n",
              "10    14.12        1.48               16.8  ...        2.43             1.57  1.17\n",
              "11    13.75        1.73               16.0  ...        2.76             1.81  1.15\n",
              "12    14.75        1.73               11.4  ...        3.69             2.81  1.25\n",
              "13    14.38        1.87               12.0  ...        3.64             2.96  1.20\n",
              "14    13.63        1.81               17.2  ...        2.91             1.46  1.28\n",
              "\n",
              "[5 rows x 7 columns]"
            ]
          },
          "metadata": {},
          "execution_count": 21
        }
      ]
    },
    {
      "cell_type": "markdown",
      "metadata": {
        "id": "adrm7Lhfpz33"
      },
      "source": [
        "### Step 14. Print only the non-null values in alcohol"
      ]
    },
    {
      "cell_type": "code",
      "metadata": {
        "colab": {
          "base_uri": "https://localhost:8080/"
        },
        "id": "q-aLKZpLqHtE",
        "outputId": "50194538-51e2-4705-999d-020b51306cf0"
      },
      "source": [
        "alco = wine.alcohol.notnull()\n",
        "alco"
      ],
      "execution_count": 29,
      "outputs": [
        {
          "output_type": "execute_result",
          "data": {
            "text/plain": [
              "10     True\n",
              "11     True\n",
              "12     True\n",
              "13     True\n",
              "14     True\n",
              "       ... \n",
              "172    True\n",
              "173    True\n",
              "174    True\n",
              "175    True\n",
              "176    True\n",
              "Name: alcohol, Length: 167, dtype: bool"
            ]
          },
          "metadata": {},
          "execution_count": 29
        }
      ]
    },
    {
      "cell_type": "markdown",
      "metadata": {
        "id": "Vl_D-wG2E0tK"
      },
      "source": [
        "### Step 15. Reset the index, so it starts with 0 again"
      ]
    },
    {
      "cell_type": "code",
      "metadata": {
        "colab": {
          "base_uri": "https://localhost:8080/",
          "height": 202
        },
        "id": "OjbbIw1DEvn6",
        "outputId": "8d7d6b17-ed34-4942-da94-3b41b110c0c4"
      },
      "source": [
        "wine = wine.reset_index(drop = True)\n",
        "wine.head()"
      ],
      "execution_count": 30,
      "outputs": [
        {
          "output_type": "execute_result",
          "data": {
            "text/html": [
              "<div>\n",
              "<style scoped>\n",
              "    .dataframe tbody tr th:only-of-type {\n",
              "        vertical-align: middle;\n",
              "    }\n",
              "\n",
              "    .dataframe tbody tr th {\n",
              "        vertical-align: top;\n",
              "    }\n",
              "\n",
              "    .dataframe thead th {\n",
              "        text-align: right;\n",
              "    }\n",
              "</style>\n",
              "<table border=\"1\" class=\"dataframe\">\n",
              "  <thead>\n",
              "    <tr style=\"text-align: right;\">\n",
              "      <th></th>\n",
              "      <th>alcohol</th>\n",
              "      <th>malic_acid</th>\n",
              "      <th>alcalinity_of_ash</th>\n",
              "      <th>magnesium</th>\n",
              "      <th>flavanoids</th>\n",
              "      <th>proanthocyanins</th>\n",
              "      <th>hue</th>\n",
              "    </tr>\n",
              "  </thead>\n",
              "  <tbody>\n",
              "    <tr>\n",
              "      <th>0</th>\n",
              "      <td>14.12</td>\n",
              "      <td>1.48</td>\n",
              "      <td>16.8</td>\n",
              "      <td>95.0</td>\n",
              "      <td>2.43</td>\n",
              "      <td>1.57</td>\n",
              "      <td>1.17</td>\n",
              "    </tr>\n",
              "    <tr>\n",
              "      <th>1</th>\n",
              "      <td>13.75</td>\n",
              "      <td>1.73</td>\n",
              "      <td>16.0</td>\n",
              "      <td>89.0</td>\n",
              "      <td>2.76</td>\n",
              "      <td>1.81</td>\n",
              "      <td>1.15</td>\n",
              "    </tr>\n",
              "    <tr>\n",
              "      <th>2</th>\n",
              "      <td>14.75</td>\n",
              "      <td>1.73</td>\n",
              "      <td>11.4</td>\n",
              "      <td>91.0</td>\n",
              "      <td>3.69</td>\n",
              "      <td>2.81</td>\n",
              "      <td>1.25</td>\n",
              "    </tr>\n",
              "    <tr>\n",
              "      <th>3</th>\n",
              "      <td>14.38</td>\n",
              "      <td>1.87</td>\n",
              "      <td>12.0</td>\n",
              "      <td>102.0</td>\n",
              "      <td>3.64</td>\n",
              "      <td>2.96</td>\n",
              "      <td>1.20</td>\n",
              "    </tr>\n",
              "    <tr>\n",
              "      <th>4</th>\n",
              "      <td>13.63</td>\n",
              "      <td>1.81</td>\n",
              "      <td>17.2</td>\n",
              "      <td>112.0</td>\n",
              "      <td>2.91</td>\n",
              "      <td>1.46</td>\n",
              "      <td>1.28</td>\n",
              "    </tr>\n",
              "  </tbody>\n",
              "</table>\n",
              "</div>"
            ],
            "text/plain": [
              "   alcohol  malic_acid  alcalinity_of_ash  ...  flavanoids  proanthocyanins   hue\n",
              "0    14.12        1.48               16.8  ...        2.43             1.57  1.17\n",
              "1    13.75        1.73               16.0  ...        2.76             1.81  1.15\n",
              "2    14.75        1.73               11.4  ...        3.69             2.81  1.25\n",
              "3    14.38        1.87               12.0  ...        3.64             2.96  1.20\n",
              "4    13.63        1.81               17.2  ...        2.91             1.46  1.28\n",
              "\n",
              "[5 rows x 7 columns]"
            ]
          },
          "metadata": {},
          "execution_count": 30
        }
      ]
    }
  ]
}